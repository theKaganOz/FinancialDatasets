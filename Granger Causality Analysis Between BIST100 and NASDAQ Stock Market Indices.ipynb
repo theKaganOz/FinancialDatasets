{
 "cells": [
  {
   "cell_type": "markdown",
   "id": "c6fadafe",
   "metadata": {},
   "source": [
    "# Motivation\n",
    "Getting involved in stock market trading and earlier research in macroeconomic relationships made me ask the following question:\n",
    "- As the economy of Turkey is considerably dollarized and is dependent on US economy, is there a causal relationship between NASDAQ-COMP and BIST100 stock market indices?\n",
    "\n",
    "This analysis will try to answer this question.\n",
    "\n",
    "Data used:\n",
    "- All NASDAQ-COMP and BIST100 data possible\n",
    "\n",
    "Sampling frequency:\n",
    "- Monthly data is used because of timezone issues.\n",
    "\n",
    "Technique:\n",
    "- Granger causality analysis"
   ]
  },
  {
   "cell_type": "code",
   "execution_count": 22,
   "id": "7dc81b00",
   "metadata": {},
   "outputs": [],
   "source": [
    "import yfinance\n",
    "import pandas as pd\n",
    "import matplotlib.pyplot as plt\n",
    "from statsmodels.tsa.stattools import adfuller, grangercausalitytests\n",
    "from statsmodels.graphics.tsaplots import plot_acf, plot_pacf"
   ]
  },
  {
   "cell_type": "markdown",
   "id": "70d5170b",
   "metadata": {},
   "source": [
    "# Retrieve and Visualize NASDAQ-COMP and BIST100 Data"
   ]
  },
  {
   "cell_type": "code",
   "execution_count": 23,
   "id": "ab37ede2",
   "metadata": {},
   "outputs": [],
   "source": [
    "# Access NASDAQ-Comp and BIST100 data\n",
    "nasdaq_comp = yfinance.Ticker(\"^IXIC\")\n",
    "bist100     = yfinance.Ticker(\"XU100.IS\")\n",
    "# Retrieve time series of index prices \n",
    "nasdaq_series  = nasdaq_comp.history(interval = \"1mo\", period = \"max\")\n",
    "bist100_series = bist100.history(interval = \"1mo\", period = \"max\")"
   ]
  },
  {
   "cell_type": "code",
   "execution_count": 24,
   "id": "996b1000",
   "metadata": {},
   "outputs": [
    {
     "data": {
      "text/html": [
       "<div>\n",
       "<style scoped>\n",
       "    .dataframe tbody tr th:only-of-type {\n",
       "        vertical-align: middle;\n",
       "    }\n",
       "\n",
       "    .dataframe tbody tr th {\n",
       "        vertical-align: top;\n",
       "    }\n",
       "\n",
       "    .dataframe thead th {\n",
       "        text-align: right;\n",
       "    }\n",
       "</style>\n",
       "<table border=\"1\" class=\"dataframe\">\n",
       "  <thead>\n",
       "    <tr style=\"text-align: right;\">\n",
       "      <th></th>\n",
       "      <th>Open</th>\n",
       "      <th>High</th>\n",
       "      <th>Low</th>\n",
       "      <th>Close</th>\n",
       "      <th>Volume</th>\n",
       "      <th>Dividends</th>\n",
       "      <th>Stock Splits</th>\n",
       "    </tr>\n",
       "    <tr>\n",
       "      <th>Date</th>\n",
       "      <th></th>\n",
       "      <th></th>\n",
       "      <th></th>\n",
       "      <th></th>\n",
       "      <th></th>\n",
       "      <th></th>\n",
       "      <th></th>\n",
       "    </tr>\n",
       "  </thead>\n",
       "  <tbody>\n",
       "    <tr>\n",
       "      <th>1985-01-01 00:00:00-05:00</th>\n",
       "      <td>247.100006</td>\n",
       "      <td>278.899994</td>\n",
       "      <td>245.800003</td>\n",
       "      <td>278.700012</td>\n",
       "      <td>1782060000</td>\n",
       "      <td>0.0</td>\n",
       "      <td>0.0</td>\n",
       "    </tr>\n",
       "    <tr>\n",
       "      <th>1985-02-01 00:00:00-05:00</th>\n",
       "      <td>277.899994</td>\n",
       "      <td>289.299988</td>\n",
       "      <td>277.899994</td>\n",
       "      <td>284.200012</td>\n",
       "      <td>1742850000</td>\n",
       "      <td>0.0</td>\n",
       "      <td>0.0</td>\n",
       "    </tr>\n",
       "    <tr>\n",
       "      <th>1985-03-01 00:00:00-05:00</th>\n",
       "      <td>285.100006</td>\n",
       "      <td>287.799988</td>\n",
       "      <td>275.600006</td>\n",
       "      <td>279.200012</td>\n",
       "      <td>1611310000</td>\n",
       "      <td>0.0</td>\n",
       "      <td>0.0</td>\n",
       "    </tr>\n",
       "    <tr>\n",
       "      <th>1985-04-01 00:00:00-05:00</th>\n",
       "      <td>279.500000</td>\n",
       "      <td>284.799988</td>\n",
       "      <td>276.200012</td>\n",
       "      <td>280.600006</td>\n",
       "      <td>1506450000</td>\n",
       "      <td>0.0</td>\n",
       "      <td>0.0</td>\n",
       "    </tr>\n",
       "    <tr>\n",
       "      <th>1985-05-01 00:00:00-04:00</th>\n",
       "      <td>280.500000</td>\n",
       "      <td>294.799988</td>\n",
       "      <td>278.799988</td>\n",
       "      <td>290.799988</td>\n",
       "      <td>1673270000</td>\n",
       "      <td>0.0</td>\n",
       "      <td>0.0</td>\n",
       "    </tr>\n",
       "    <tr>\n",
       "      <th>...</th>\n",
       "      <td>...</td>\n",
       "      <td>...</td>\n",
       "      <td>...</td>\n",
       "      <td>...</td>\n",
       "      <td>...</td>\n",
       "      <td>...</td>\n",
       "      <td>...</td>\n",
       "    </tr>\n",
       "    <tr>\n",
       "      <th>2023-05-01 00:00:00-04:00</th>\n",
       "      <td>12210.049805</td>\n",
       "      <td>13154.290039</td>\n",
       "      <td>11925.370117</td>\n",
       "      <td>12935.290039</td>\n",
       "      <td>101290320000</td>\n",
       "      <td>0.0</td>\n",
       "      <td>0.0</td>\n",
       "    </tr>\n",
       "    <tr>\n",
       "      <th>2023-06-01 00:00:00-04:00</th>\n",
       "      <td>12944.459961</td>\n",
       "      <td>13864.059570</td>\n",
       "      <td>12903.629883</td>\n",
       "      <td>13787.919922</td>\n",
       "      <td>107650300000</td>\n",
       "      <td>0.0</td>\n",
       "      <td>0.0</td>\n",
       "    </tr>\n",
       "    <tr>\n",
       "      <th>2023-07-01 00:00:00-04:00</th>\n",
       "      <td>13798.700195</td>\n",
       "      <td>14446.549805</td>\n",
       "      <td>13567.250000</td>\n",
       "      <td>14346.019531</td>\n",
       "      <td>96983440000</td>\n",
       "      <td>0.0</td>\n",
       "      <td>0.0</td>\n",
       "    </tr>\n",
       "    <tr>\n",
       "      <th>2023-08-01 00:00:00-04:00</th>\n",
       "      <td>14274.929688</td>\n",
       "      <td>14309.209961</td>\n",
       "      <td>13161.759766</td>\n",
       "      <td>14034.969727</td>\n",
       "      <td>110754840000</td>\n",
       "      <td>0.0</td>\n",
       "      <td>0.0</td>\n",
       "    </tr>\n",
       "    <tr>\n",
       "      <th>2023-09-01 00:00:00-04:00</th>\n",
       "      <td>14129.959961</td>\n",
       "      <td>14149.620117</td>\n",
       "      <td>13982.419922</td>\n",
       "      <td>14031.809570</td>\n",
       "      <td>4033960000</td>\n",
       "      <td>0.0</td>\n",
       "      <td>0.0</td>\n",
       "    </tr>\n",
       "  </tbody>\n",
       "</table>\n",
       "<p>465 rows × 7 columns</p>\n",
       "</div>"
      ],
      "text/plain": [
       "                                   Open          High           Low  \\\n",
       "Date                                                                  \n",
       "1985-01-01 00:00:00-05:00    247.100006    278.899994    245.800003   \n",
       "1985-02-01 00:00:00-05:00    277.899994    289.299988    277.899994   \n",
       "1985-03-01 00:00:00-05:00    285.100006    287.799988    275.600006   \n",
       "1985-04-01 00:00:00-05:00    279.500000    284.799988    276.200012   \n",
       "1985-05-01 00:00:00-04:00    280.500000    294.799988    278.799988   \n",
       "...                                 ...           ...           ...   \n",
       "2023-05-01 00:00:00-04:00  12210.049805  13154.290039  11925.370117   \n",
       "2023-06-01 00:00:00-04:00  12944.459961  13864.059570  12903.629883   \n",
       "2023-07-01 00:00:00-04:00  13798.700195  14446.549805  13567.250000   \n",
       "2023-08-01 00:00:00-04:00  14274.929688  14309.209961  13161.759766   \n",
       "2023-09-01 00:00:00-04:00  14129.959961  14149.620117  13982.419922   \n",
       "\n",
       "                                  Close        Volume  Dividends  Stock Splits  \n",
       "Date                                                                            \n",
       "1985-01-01 00:00:00-05:00    278.700012    1782060000        0.0           0.0  \n",
       "1985-02-01 00:00:00-05:00    284.200012    1742850000        0.0           0.0  \n",
       "1985-03-01 00:00:00-05:00    279.200012    1611310000        0.0           0.0  \n",
       "1985-04-01 00:00:00-05:00    280.600006    1506450000        0.0           0.0  \n",
       "1985-05-01 00:00:00-04:00    290.799988    1673270000        0.0           0.0  \n",
       "...                                 ...           ...        ...           ...  \n",
       "2023-05-01 00:00:00-04:00  12935.290039  101290320000        0.0           0.0  \n",
       "2023-06-01 00:00:00-04:00  13787.919922  107650300000        0.0           0.0  \n",
       "2023-07-01 00:00:00-04:00  14346.019531   96983440000        0.0           0.0  \n",
       "2023-08-01 00:00:00-04:00  14034.969727  110754840000        0.0           0.0  \n",
       "2023-09-01 00:00:00-04:00  14031.809570    4033960000        0.0           0.0  \n",
       "\n",
       "[465 rows x 7 columns]"
      ]
     },
     "execution_count": 24,
     "metadata": {},
     "output_type": "execute_result"
    }
   ],
   "source": [
    "nasdaq_series"
   ]
  },
  {
   "cell_type": "code",
   "execution_count": 25,
   "id": "e606f103",
   "metadata": {},
   "outputs": [
    {
     "data": {
      "text/html": [
       "<div>\n",
       "<style scoped>\n",
       "    .dataframe tbody tr th:only-of-type {\n",
       "        vertical-align: middle;\n",
       "    }\n",
       "\n",
       "    .dataframe tbody tr th {\n",
       "        vertical-align: top;\n",
       "    }\n",
       "\n",
       "    .dataframe thead th {\n",
       "        text-align: right;\n",
       "    }\n",
       "</style>\n",
       "<table border=\"1\" class=\"dataframe\">\n",
       "  <thead>\n",
       "    <tr style=\"text-align: right;\">\n",
       "      <th></th>\n",
       "      <th>Open</th>\n",
       "      <th>High</th>\n",
       "      <th>Low</th>\n",
       "      <th>Close</th>\n",
       "      <th>Volume</th>\n",
       "      <th>Dividends</th>\n",
       "      <th>Stock Splits</th>\n",
       "    </tr>\n",
       "    <tr>\n",
       "      <th>Date</th>\n",
       "      <th></th>\n",
       "      <th></th>\n",
       "      <th></th>\n",
       "      <th></th>\n",
       "      <th></th>\n",
       "      <th></th>\n",
       "      <th></th>\n",
       "    </tr>\n",
       "  </thead>\n",
       "  <tbody>\n",
       "    <tr>\n",
       "      <th>1997-07-01 00:00:00+03:00</th>\n",
       "      <td>1857.000000</td>\n",
       "      <td>2060.000000</td>\n",
       "      <td>1826.000000</td>\n",
       "      <td>1953.000000</td>\n",
       "      <td>69893800</td>\n",
       "      <td>0.0</td>\n",
       "      <td>0.0</td>\n",
       "    </tr>\n",
       "    <tr>\n",
       "      <th>1997-08-01 00:00:00+03:00</th>\n",
       "      <td>1953.000000</td>\n",
       "      <td>2070.000000</td>\n",
       "      <td>1910.000000</td>\n",
       "      <td>1980.000000</td>\n",
       "      <td>55352600</td>\n",
       "      <td>0.0</td>\n",
       "      <td>0.0</td>\n",
       "    </tr>\n",
       "    <tr>\n",
       "      <th>1997-09-01 00:00:00+03:00</th>\n",
       "      <td>1980.000000</td>\n",
       "      <td>2675.000000</td>\n",
       "      <td>1965.000000</td>\n",
       "      <td>2593.000000</td>\n",
       "      <td>105260200</td>\n",
       "      <td>0.0</td>\n",
       "      <td>0.0</td>\n",
       "    </tr>\n",
       "    <tr>\n",
       "      <th>1997-10-01 00:00:00+03:00</th>\n",
       "      <td>2593.000000</td>\n",
       "      <td>3634.000000</td>\n",
       "      <td>2529.000000</td>\n",
       "      <td>2846.000000</td>\n",
       "      <td>150296800</td>\n",
       "      <td>0.0</td>\n",
       "      <td>0.0</td>\n",
       "    </tr>\n",
       "    <tr>\n",
       "      <th>1997-11-01 00:00:00+02:00</th>\n",
       "      <td>2846.000000</td>\n",
       "      <td>3255.000000</td>\n",
       "      <td>2599.000000</td>\n",
       "      <td>2879.000000</td>\n",
       "      <td>103199100</td>\n",
       "      <td>0.0</td>\n",
       "      <td>0.0</td>\n",
       "    </tr>\n",
       "    <tr>\n",
       "      <th>...</th>\n",
       "      <td>...</td>\n",
       "      <td>...</td>\n",
       "      <td>...</td>\n",
       "      <td>...</td>\n",
       "      <td>...</td>\n",
       "      <td>...</td>\n",
       "      <td>...</td>\n",
       "    </tr>\n",
       "    <tr>\n",
       "      <th>2023-05-01 00:00:00+03:00</th>\n",
       "      <td>4628.399902</td>\n",
       "      <td>4982.899902</td>\n",
       "      <td>4311.399902</td>\n",
       "      <td>4886.899902</td>\n",
       "      <td>56502596900</td>\n",
       "      <td>0.0</td>\n",
       "      <td>0.0</td>\n",
       "    </tr>\n",
       "    <tr>\n",
       "      <th>2023-06-01 00:00:00+03:00</th>\n",
       "      <td>4928.600098</td>\n",
       "      <td>5766.600098</td>\n",
       "      <td>4928.600098</td>\n",
       "      <td>5759.100098</td>\n",
       "      <td>60861426100</td>\n",
       "      <td>0.0</td>\n",
       "      <td>0.0</td>\n",
       "    </tr>\n",
       "    <tr>\n",
       "      <th>2023-07-01 00:00:00+03:00</th>\n",
       "      <td>5867.200195</td>\n",
       "      <td>7256.600098</td>\n",
       "      <td>5867.200195</td>\n",
       "      <td>7217.000000</td>\n",
       "      <td>101332098500</td>\n",
       "      <td>0.0</td>\n",
       "      <td>0.0</td>\n",
       "    </tr>\n",
       "    <tr>\n",
       "      <th>2023-08-01 00:00:00+03:00</th>\n",
       "      <td>7209.600098</td>\n",
       "      <td>8013.500000</td>\n",
       "      <td>7113.299805</td>\n",
       "      <td>7917.899902</td>\n",
       "      <td>116636014400</td>\n",
       "      <td>0.0</td>\n",
       "      <td>0.0</td>\n",
       "    </tr>\n",
       "    <tr>\n",
       "      <th>2023-09-01 00:00:00+03:00</th>\n",
       "      <td>7966.700195</td>\n",
       "      <td>8060.919922</td>\n",
       "      <td>7930.089844</td>\n",
       "      <td>8056.120117</td>\n",
       "      <td>4229228600</td>\n",
       "      <td>0.0</td>\n",
       "      <td>0.0</td>\n",
       "    </tr>\n",
       "  </tbody>\n",
       "</table>\n",
       "<p>315 rows × 7 columns</p>\n",
       "</div>"
      ],
      "text/plain": [
       "                                  Open         High          Low        Close  \\\n",
       "Date                                                                            \n",
       "1997-07-01 00:00:00+03:00  1857.000000  2060.000000  1826.000000  1953.000000   \n",
       "1997-08-01 00:00:00+03:00  1953.000000  2070.000000  1910.000000  1980.000000   \n",
       "1997-09-01 00:00:00+03:00  1980.000000  2675.000000  1965.000000  2593.000000   \n",
       "1997-10-01 00:00:00+03:00  2593.000000  3634.000000  2529.000000  2846.000000   \n",
       "1997-11-01 00:00:00+02:00  2846.000000  3255.000000  2599.000000  2879.000000   \n",
       "...                                ...          ...          ...          ...   \n",
       "2023-05-01 00:00:00+03:00  4628.399902  4982.899902  4311.399902  4886.899902   \n",
       "2023-06-01 00:00:00+03:00  4928.600098  5766.600098  4928.600098  5759.100098   \n",
       "2023-07-01 00:00:00+03:00  5867.200195  7256.600098  5867.200195  7217.000000   \n",
       "2023-08-01 00:00:00+03:00  7209.600098  8013.500000  7113.299805  7917.899902   \n",
       "2023-09-01 00:00:00+03:00  7966.700195  8060.919922  7930.089844  8056.120117   \n",
       "\n",
       "                                 Volume  Dividends  Stock Splits  \n",
       "Date                                                              \n",
       "1997-07-01 00:00:00+03:00      69893800        0.0           0.0  \n",
       "1997-08-01 00:00:00+03:00      55352600        0.0           0.0  \n",
       "1997-09-01 00:00:00+03:00     105260200        0.0           0.0  \n",
       "1997-10-01 00:00:00+03:00     150296800        0.0           0.0  \n",
       "1997-11-01 00:00:00+02:00     103199100        0.0           0.0  \n",
       "...                                 ...        ...           ...  \n",
       "2023-05-01 00:00:00+03:00   56502596900        0.0           0.0  \n",
       "2023-06-01 00:00:00+03:00   60861426100        0.0           0.0  \n",
       "2023-07-01 00:00:00+03:00  101332098500        0.0           0.0  \n",
       "2023-08-01 00:00:00+03:00  116636014400        0.0           0.0  \n",
       "2023-09-01 00:00:00+03:00    4229228600        0.0           0.0  \n",
       "\n",
       "[315 rows x 7 columns]"
      ]
     },
     "execution_count": 25,
     "metadata": {},
     "output_type": "execute_result"
    }
   ],
   "source": [
    "bist100_series"
   ]
  },
  {
   "cell_type": "markdown",
   "id": "49f36707",
   "metadata": {},
   "source": [
    "As can be seen, BIST100 starts in 1997 whereas NASDAQ-COMP starts from 1985. Therefore, the intersection of these time indices will be used in the analysis. "
   ]
  },
  {
   "cell_type": "code",
   "execution_count": 26,
   "id": "630c09cc",
   "metadata": {},
   "outputs": [],
   "source": [
    "nasdaq_series = nasdaq_series.loc[bist100_series.index[0]:bist100_series.index[-1]]"
   ]
  },
  {
   "cell_type": "markdown",
   "id": "13b66290",
   "metadata": {},
   "source": [
    "Let's visualize how these series are related to each other visually. Closing prices are chosen as the main series."
   ]
  },
  {
   "cell_type": "code",
   "execution_count": 27,
   "id": "a83b5069",
   "metadata": {},
   "outputs": [
    {
     "data": {
      "text/plain": [
       "<matplotlib.legend.Legend at 0x25352e17d90>"
      ]
     },
     "execution_count": 27,
     "metadata": {},
     "output_type": "execute_result"
    },
    {
     "data": {
      "image/png": "[encoded data removed]",
      "text/plain": [
       "<Figure size 720x720 with 1 Axes>"
      ]
     },
     "metadata": {
      "needs_background": "light"
     },
     "output_type": "display_data"
    }
   ],
   "source": [
    "plt.figure(figsize = (10, 10))\n",
    "plt.plot(nasdaq_series[\"Close\"], label = \"NASDAQ-COMP\")\n",
    "plt.plot(bist100_series[\"Close\"], label = \"BIST100\")\n",
    "plt.legend(loc = \"upper right\")\n"
   ]
  },
  {
   "cell_type": "markdown",
   "id": "b5c64e72",
   "metadata": {},
   "source": [
    "An infamous stock market crash happened in Turkey around 2019-2020, which can be seen obviously in the graph above. The obvious rising trend in BIST100 series above is most likely due the signicant devaluation in Turkish currency, against US dollars. Furthermore, there probably is a seasonal pattern and various periodic influences in BIST100 data, which can be explored further in another notebook."
   ]
  },
  {
   "cell_type": "markdown",
   "id": "110cde85",
   "metadata": {},
   "source": [
    "# Plotting ACF and PACF of series"
   ]
  },
  {
   "cell_type": "code",
   "execution_count": 28,
   "id": "01dcfa3f",
   "metadata": {},
   "outputs": [
    {
     "name": "stderr",
     "output_type": "stream",
     "text": [
      "C:\\Users\\kagan\\anaconda3\\lib\\site-packages\\statsmodels\\graphics\\tsaplots.py:348: FutureWarning: The default method 'yw' can produce PACF values outside of the [-1,1] interval. After 0.13, the default will change tounadjusted Yule-Walker ('ywm'). You can use this method now by setting method='ywm'.\n",
      "  warnings.warn(\n"
     ]
    },
    {
     "data": {
      "text/plain": [
       "<Figure size 720x720 with 0 Axes>"
      ]
     },
     "metadata": {},
     "output_type": "display_data"
    },
    {
     "data": {
      "image/png": "[encoded data removed]",
      "text/plain": [
       "<Figure size 432x288 with 1 Axes>"
      ]
     },
     "metadata": {
      "needs_background": "light"
     },
     "output_type": "display_data"
    },
    {
     "data": {
      "text/plain": [
       "<Figure size 720x720 with 0 Axes>"
      ]
     },
     "metadata": {},
     "output_type": "display_data"
    },
    {
     "data": {
      "image/png": "[encoded data removed]",
      "text/plain": [
       "<Figure size 432x288 with 1 Axes>"
      ]
     },
     "metadata": {
      "needs_background": "light"
     },
     "output_type": "display_data"
    }
   ],
   "source": [
    "# ACF and PACF of NASDAQ-COMP\n",
    "plt.figure(figsize=(10, 10))\n",
    "_ = plot_acf(nasdaq_series[\"Close\"])\n",
    "plt.figure(figsize=(10, 10))\n",
    "_ = plot_pacf(nasdaq_series[\"Close\"])\n"
   ]
  },
  {
   "cell_type": "code",
   "execution_count": 29,
   "id": "99d2c96e",
   "metadata": {},
   "outputs": [
    {
     "name": "stderr",
     "output_type": "stream",
     "text": [
      "C:\\Users\\kagan\\anaconda3\\lib\\site-packages\\statsmodels\\graphics\\tsaplots.py:348: FutureWarning: The default method 'yw' can produce PACF values outside of the [-1,1] interval. After 0.13, the default will change tounadjusted Yule-Walker ('ywm'). You can use this method now by setting method='ywm'.\n",
      "  warnings.warn(\n"
     ]
    },
    {
     "data": {
      "text/plain": [
       "<Figure size 720x720 with 0 Axes>"
      ]
     },
     "metadata": {},
     "output_type": "display_data"
    },
    {
     "data": {
      "image/png": "[encoded data removed]",
      "text/plain": [
       "<Figure size 432x288 with 1 Axes>"
      ]
     },
     "metadata": {
      "needs_background": "light"
     },
     "output_type": "display_data"
    },
    {
     "data": {
      "text/plain": [
       "<Figure size 720x720 with 0 Axes>"
      ]
     },
     "metadata": {},
     "output_type": "display_data"
    },
    {
     "data": {
      "image/png": "[encoded data removed]",
      "text/plain": [
       "<Figure size 432x288 with 1 Axes>"
      ]
     },
     "metadata": {
      "needs_background": "light"
     },
     "output_type": "display_data"
    }
   ],
   "source": [
    "# ACF and PACF of BIST100\n",
    "plt.figure(figsize=(10, 10))\n",
    "_ = plot_acf(bist100_series[\"Close\"])\n",
    "plt.figure(figsize=(10, 10))\n",
    "_ = plot_pacf(bist100_series[\"Close\"])\n"
   ]
  },
  {
   "cell_type": "markdown",
   "id": "ad3b54d0",
   "metadata": {},
   "source": [
    "Apparently, both series are non-stationary at level. First differences will be taken to see whether the series becomes stationary."
   ]
  },
  {
   "cell_type": "code",
   "execution_count": 30,
   "id": "19ef1587",
   "metadata": {},
   "outputs": [
    {
     "name": "stderr",
     "output_type": "stream",
     "text": [
      "C:\\Users\\kagan\\anaconda3\\lib\\site-packages\\statsmodels\\graphics\\tsaplots.py:348: FutureWarning: The default method 'yw' can produce PACF values outside of the [-1,1] interval. After 0.13, the default will change tounadjusted Yule-Walker ('ywm'). You can use this method now by setting method='ywm'.\n",
      "  warnings.warn(\n"
     ]
    },
    {
     "data": {
      "text/plain": [
       "<Figure size 720x720 with 0 Axes>"
      ]
     },
     "metadata": {},
     "output_type": "display_data"
    },
    {
     "data": {
      "image/png": "[encoded data removed]",
      "text/plain": [
       "<Figure size 432x288 with 1 Axes>"
      ]
     },
     "metadata": {
      "needs_background": "light"
     },
     "output_type": "display_data"
    },
    {
     "data": {
      "text/plain": [
       "<Figure size 720x720 with 0 Axes>"
      ]
     },
     "metadata": {},
     "output_type": "display_data"
    },
    {
     "data": {
      "image/png": "[encoded data removed]",
      "text/plain": [
       "<Figure size 432x288 with 1 Axes>"
      ]
     },
     "metadata": {
      "needs_background": "light"
     },
     "output_type": "display_data"
    }
   ],
   "source": [
    "# ACF and PACF of NASDAQ-COMP, first difference\n",
    "plt.figure(figsize=(10, 10))\n",
    "_ = plot_acf(nasdaq_series[\"Close\"].diff().dropna())\n",
    "plt.figure(figsize=(10, 10))\n",
    "_ = plot_pacf(nasdaq_series[\"Close\"].diff().dropna())\n"
   ]
  },
  {
   "cell_type": "code",
   "execution_count": 31,
   "id": "c4d9e678",
   "metadata": {},
   "outputs": [
    {
     "name": "stderr",
     "output_type": "stream",
     "text": [
      "C:\\Users\\kagan\\anaconda3\\lib\\site-packages\\statsmodels\\graphics\\tsaplots.py:348: FutureWarning: The default method 'yw' can produce PACF values outside of the [-1,1] interval. After 0.13, the default will change tounadjusted Yule-Walker ('ywm'). You can use this method now by setting method='ywm'.\n",
      "  warnings.warn(\n"
     ]
    },
    {
     "data": {
      "text/plain": [
       "<Figure size 720x720 with 0 Axes>"
      ]
     },
     "metadata": {},
     "output_type": "display_data"
    },
    {
     "data": {
      "image/png": "[encoded data removed]",
      "text/plain": [
       "<Figure size 432x288 with 1 Axes>"
      ]
     },
     "metadata": {
      "needs_background": "light"
     },
     "output_type": "display_data"
    },
    {
     "data": {
      "text/plain": [
       "<Figure size 720x720 with 0 Axes>"
      ]
     },
     "metadata": {},
     "output_type": "display_data"
    },
    {
     "data": {
      "image/png": "[encoded data removed]",
      "text/plain": [
       "<Figure size 432x288 with 1 Axes>"
      ]
     },
     "metadata": {
      "needs_background": "light"
     },
     "output_type": "display_data"
    }
   ],
   "source": [
    "# ACF and PACF of BIST100, first difference\n",
    "plt.figure(figsize=(10, 10))\n",
    "_ = plot_acf(bist100_series[\"Close\"].diff().dropna())\n",
    "plt.figure(figsize=(10, 10))\n",
    "_ = plot_pacf(bist100_series[\"Close\"].diff().dropna())\n"
   ]
  },
  {
   "cell_type": "markdown",
   "id": "170a8adc",
   "metadata": {},
   "source": [
    "Good news, everyone! Both series are apparently stationary at first difference, which one of the requirements of cointegration, in case we want to analyse cointegration. The series are shown below to check whether any anomalies are present in the differenced series."
   ]
  },
  {
   "cell_type": "code",
   "execution_count": 32,
   "id": "1e08d817",
   "metadata": {},
   "outputs": [
    {
     "data": {
      "text/plain": [
       "Date\n",
       "1997-08-01 00:00:00-04:00     -6.490112\n",
       "1997-09-01 00:00:00-04:00     98.369995\n",
       "1997-10-01 00:00:00-04:00    -92.079956\n",
       "1997-11-01 00:00:00-05:00      6.940063\n",
       "1997-12-01 00:00:00-05:00    -30.200073\n",
       "                                ...    \n",
       "2023-04-01 00:00:00-04:00      4.669922\n",
       "2023-05-01 00:00:00-04:00    708.709961\n",
       "2023-06-01 00:00:00-04:00    852.629883\n",
       "2023-07-01 00:00:00-04:00    558.099609\n",
       "2023-08-01 00:00:00-04:00   -311.049805\n",
       "Name: Close, Length: 313, dtype: float64"
      ]
     },
     "execution_count": 32,
     "metadata": {},
     "output_type": "execute_result"
    }
   ],
   "source": [
    "nasdaq_series[\"Close\"].diff().dropna()"
   ]
  },
  {
   "cell_type": "code",
   "execution_count": 33,
   "id": "d185141c",
   "metadata": {},
   "outputs": [
    {
     "data": {
      "text/plain": [
       "Date\n",
       "1997-08-01 00:00:00+03:00      27.000000\n",
       "1997-09-01 00:00:00+03:00     613.000000\n",
       "1997-10-01 00:00:00+03:00     253.000000\n",
       "1997-11-01 00:00:00+02:00      33.000000\n",
       "1997-12-01 00:00:00+02:00     572.000000\n",
       "                                ...     \n",
       "2023-05-01 00:00:00+03:00     269.000000\n",
       "2023-06-01 00:00:00+03:00     872.200195\n",
       "2023-07-01 00:00:00+03:00    1457.899902\n",
       "2023-08-01 00:00:00+03:00     700.899902\n",
       "2023-09-01 00:00:00+03:00     138.220215\n",
       "Name: Close, Length: 314, dtype: float64"
      ]
     },
     "execution_count": 33,
     "metadata": {},
     "output_type": "execute_result"
    }
   ],
   "source": [
    "bist100_series[\"Close\"].diff().dropna()"
   ]
  },
  {
   "cell_type": "markdown",
   "id": "2e436baf",
   "metadata": {},
   "source": [
    "## Plotting first difference of these series"
   ]
  },
  {
   "cell_type": "code",
   "execution_count": 34,
   "id": "4364f488",
   "metadata": {},
   "outputs": [
    {
     "data": {
      "text/plain": [
       "<matplotlib.legend.Legend at 0x253531ccd60>"
      ]
     },
     "execution_count": 34,
     "metadata": {},
     "output_type": "execute_result"
    },
    {
     "data": {
      "image/png": "[encoded data removed]",
      "text/plain": [
       "<Figure size 720x720 with 1 Axes>"
      ]
     },
     "metadata": {
      "needs_background": "light"
     },
     "output_type": "display_data"
    }
   ],
   "source": [
    "plt.figure(figsize = (10, 10))\n",
    "plt.plot(nasdaq_series[\"Close\"].diff().dropna(), label = \"NASDAQ-COMP\")\n",
    "plt.plot(bist100_series[\"Close\"].diff().dropna(), label = \"BIST100\")\n",
    "plt.legend(loc = \"upper right\")\n"
   ]
  },
  {
   "cell_type": "markdown",
   "id": "ad9fdfe9",
   "metadata": {},
   "source": [
    "BIST100 indices dominate the plot because Turkish currency TRY is significantly undervalued compared to USD, and BIST100 data is represented in terms of TRY in Yahoo Finance."
   ]
  },
  {
   "cell_type": "markdown",
   "id": "1cc6dd5d",
   "metadata": {},
   "source": [
    "# Granger Causality Analysis\n",
    "Simply put, Granger causality tests regresses one time series Y over itself (autoregression), then performs the series itself and another time series X on Y, together. If the second regression with other time series is more statistically significant, X is said to Granger-cause Y. \n",
    "\n",
    "As US and Turkey are not in the same time zone, the index datetime series will be set to index numbers."
   ]
  },
  {
   "cell_type": "code",
   "execution_count": 35,
   "id": "c23cc5cc",
   "metadata": {},
   "outputs": [],
   "source": [
    "test_dataframe_level = pd.concat([bist100_series[\"Close\"].reset_index(), nasdaq_series[\"Close\"].reset_index()], \n",
    "                           axis = 1, \n",
    "                           names = [\"BIST100\", \"NASDAQ-COMP\"]).dropna(axis = 0)\n",
    "test_dataframe_differenced = pd.concat([bist100_series[\"Close\"].diff().dropna().reset_index(), nasdaq_series[\"Close\"].diff().dropna().reset_index()], \n",
    "                           axis = 1, \n",
    "                           names = [\"BIST100\", \"NASDAQ-COMP\"]).dropna(axis = 0) # second column is considered the cause series"
   ]
  },
  {
   "cell_type": "code",
   "execution_count": 36,
   "id": "dc969466",
   "metadata": {},
   "outputs": [],
   "source": [
    "test_dataframe_differenced.columns = [\"Date 1\", \"BIST100\", \"Date 2\", \"NASDAQ-COMP\"]\n",
    "test_dataframe_differenced = test_dataframe_differenced[[\"BIST100\", \"NASDAQ-COMP\"]]"
   ]
  },
  {
   "cell_type": "code",
   "execution_count": 37,
   "id": "f23e3875",
   "metadata": {},
   "outputs": [
    {
     "name": "stdout",
     "output_type": "stream",
     "text": [
      "\n",
      "Granger Causality\n",
      "number of lags (no zero) 1\n",
      "ssr based F test:         F=1.3623  , p=0.2440  , df_denom=309, df_num=1\n",
      "ssr based chi2 test:   chi2=1.3755  , p=0.2409  , df=1\n",
      "likelihood ratio test: chi2=1.3725  , p=0.2414  , df=1\n",
      "parameter F test:         F=1.3623  , p=0.2440  , df_denom=309, df_num=1\n",
      "\n",
      "Granger Causality\n",
      "number of lags (no zero) 2\n",
      "ssr based F test:         F=2.2563  , p=0.1065  , df_denom=306, df_num=2\n",
      "ssr based chi2 test:   chi2=4.5863  , p=0.1009  , df=2\n",
      "likelihood ratio test: chi2=4.5528  , p=0.1027  , df=2\n",
      "parameter F test:         F=2.2563  , p=0.1065  , df_denom=306, df_num=2\n",
      "\n",
      "Granger Causality\n",
      "number of lags (no zero) 3\n",
      "ssr based F test:         F=5.9522  , p=0.0006  , df_denom=303, df_num=3\n",
      "ssr based chi2 test:   chi2=18.2693 , p=0.0004  , df=3\n",
      "likelihood ratio test: chi2=17.7512 , p=0.0005  , df=3\n",
      "parameter F test:         F=5.9522  , p=0.0006  , df_denom=303, df_num=3\n",
      "\n",
      "Granger Causality\n",
      "number of lags (no zero) 4\n",
      "ssr based F test:         F=4.6517  , p=0.0012  , df_denom=300, df_num=4\n",
      "ssr based chi2 test:   chi2=19.1649 , p=0.0007  , df=4\n",
      "likelihood ratio test: chi2=18.5940 , p=0.0009  , df=4\n",
      "parameter F test:         F=4.6517  , p=0.0012  , df_denom=300, df_num=4\n",
      "\n",
      "Granger Causality\n",
      "number of lags (no zero) 5\n",
      "ssr based F test:         F=5.9585  , p=0.0000  , df_denom=297, df_num=5\n",
      "ssr based chi2 test:   chi2=30.8958 , p=0.0000  , df=5\n",
      "likelihood ratio test: chi2=29.4426 , p=0.0000  , df=5\n",
      "parameter F test:         F=5.9585  , p=0.0000  , df_denom=297, df_num=5\n",
      "\n",
      "Granger Causality\n",
      "number of lags (no zero) 6\n",
      "ssr based F test:         F=5.0420  , p=0.0001  , df_denom=294, df_num=6\n",
      "ssr based chi2 test:   chi2=31.5900 , p=0.0000  , df=6\n",
      "likelihood ratio test: chi2=30.0682 , p=0.0000  , df=6\n",
      "parameter F test:         F=5.0420  , p=0.0001  , df_denom=294, df_num=6\n",
      "\n",
      "Granger Causality\n",
      "number of lags (no zero) 7\n",
      "ssr based F test:         F=4.6245  , p=0.0001  , df_denom=291, df_num=7\n",
      "ssr based chi2 test:   chi2=34.0400 , p=0.0000  , df=7\n",
      "likelihood ratio test: chi2=32.2763 , p=0.0000  , df=7\n",
      "parameter F test:         F=4.6245  , p=0.0001  , df_denom=291, df_num=7\n",
      "\n",
      "Granger Causality\n",
      "number of lags (no zero) 8\n",
      "ssr based F test:         F=4.1749  , p=0.0001  , df_denom=288, df_num=8\n",
      "ssr based chi2 test:   chi2=35.3707 , p=0.0000  , df=8\n",
      "likelihood ratio test: chi2=33.4657 , p=0.0001  , df=8\n",
      "parameter F test:         F=4.1749  , p=0.0001  , df_denom=288, df_num=8\n",
      "\n",
      "Granger Causality\n",
      "number of lags (no zero) 9\n",
      "ssr based F test:         F=4.6615  , p=0.0000  , df_denom=285, df_num=9\n",
      "ssr based chi2 test:   chi2=44.7502 , p=0.0000  , df=9\n",
      "likelihood ratio test: chi2=41.7477 , p=0.0000  , df=9\n",
      "parameter F test:         F=4.6615  , p=0.0000  , df_denom=285, df_num=9\n",
      "\n",
      "Granger Causality\n",
      "number of lags (no zero) 10\n",
      "ssr based F test:         F=4.0770  , p=0.0000  , df_denom=282, df_num=10\n",
      "ssr based chi2 test:   chi2=43.8058 , p=0.0000  , df=10\n",
      "likelihood ratio test: chi2=40.9148 , p=0.0000  , df=10\n",
      "parameter F test:         F=4.0770  , p=0.0000  , df_denom=282, df_num=10\n",
      "\n",
      "Granger Causality\n",
      "number of lags (no zero) 11\n",
      "ssr based F test:         F=3.6745  , p=0.0001  , df_denom=279, df_num=11\n",
      "ssr based chi2 test:   chi2=43.7512 , p=0.0000  , df=11\n",
      "likelihood ratio test: chi2=40.8583 , p=0.0000  , df=11\n",
      "parameter F test:         F=3.6745  , p=0.0001  , df_denom=279, df_num=11\n",
      "\n",
      "Granger Causality\n",
      "number of lags (no zero) 12\n",
      "ssr based F test:         F=3.3813  , p=0.0001  , df_denom=276, df_num=12\n",
      "ssr based chi2 test:   chi2=44.2506 , p=0.0000  , df=12\n",
      "likelihood ratio test: chi2=41.2852 , p=0.0000  , df=12\n",
      "parameter F test:         F=3.3813  , p=0.0001  , df_denom=276, df_num=12\n",
      "\n",
      "Granger Causality\n",
      "number of lags (no zero) 13\n",
      "ssr based F test:         F=3.8241  , p=0.0000  , df_denom=273, df_num=13\n",
      "ssr based chi2 test:   chi2=54.6294 , p=0.0000  , df=13\n",
      "likelihood ratio test: chi2=50.1872 , p=0.0000  , df=13\n",
      "parameter F test:         F=3.8241  , p=0.0000  , df_denom=273, df_num=13\n",
      "\n",
      "Granger Causality\n",
      "number of lags (no zero) 14\n",
      "ssr based F test:         F=3.8683  , p=0.0000  , df_denom=270, df_num=14\n",
      "ssr based chi2 test:   chi2=59.9722 , p=0.0000  , df=14\n",
      "likelihood ratio test: chi2=54.6576 , p=0.0000  , df=14\n",
      "parameter F test:         F=3.8683  , p=0.0000  , df_denom=270, df_num=14\n",
      "\n",
      "Granger Causality\n",
      "number of lags (no zero) 15\n",
      "ssr based F test:         F=3.8372  , p=0.0000  , df_denom=267, df_num=15\n",
      "ssr based chi2 test:   chi2=64.2400 , p=0.0000  , df=15\n",
      "likelihood ratio test: chi2=58.1736 , p=0.0000  , df=15\n",
      "parameter F test:         F=3.8372  , p=0.0000  , df_denom=267, df_num=15\n",
      "\n",
      "Granger Causality\n",
      "number of lags (no zero) 16\n",
      "ssr based F test:         F=3.8451  , p=0.0000  , df_denom=264, df_num=16\n",
      "ssr based chi2 test:   chi2=69.2123 , p=0.0000  , df=16\n",
      "likelihood ratio test: chi2=62.2159 , p=0.0000  , df=16\n",
      "parameter F test:         F=3.8451  , p=0.0000  , df_denom=264, df_num=16\n",
      "\n",
      "Granger Causality\n",
      "number of lags (no zero) 17\n",
      "ssr based F test:         F=3.7411  , p=0.0000  , df_denom=261, df_num=17\n",
      "ssr based chi2 test:   chi2=72.1273 , p=0.0000  , df=17\n",
      "likelihood ratio test: chi2=64.5485 , p=0.0000  , df=17\n",
      "parameter F test:         F=3.7411  , p=0.0000  , df_denom=261, df_num=17\n",
      "\n",
      "Granger Causality\n",
      "number of lags (no zero) 18\n",
      "ssr based F test:         F=3.8701  , p=0.0000  , df_denom=258, df_num=18\n",
      "ssr based chi2 test:   chi2=79.6528 , p=0.0000  , df=18\n",
      "likelihood ratio test: chi2=70.5122 , p=0.0000  , df=18\n",
      "parameter F test:         F=3.8701  , p=0.0000  , df_denom=258, df_num=18\n",
      "\n",
      "Granger Causality\n",
      "number of lags (no zero) 19\n",
      "ssr based F test:         F=3.6292  , p=0.0000  , df_denom=255, df_num=19\n",
      "ssr based chi2 test:   chi2=79.5003 , p=0.0000  , df=19\n",
      "likelihood ratio test: chi2=70.3657 , p=0.0000  , df=19\n",
      "parameter F test:         F=3.6292  , p=0.0000  , df_denom=255, df_num=19\n",
      "\n",
      "Granger Causality\n",
      "number of lags (no zero) 20\n",
      "ssr based F test:         F=3.4080  , p=0.0000  , df_denom=252, df_num=20\n",
      "ssr based chi2 test:   chi2=79.2493 , p=0.0000  , df=20\n",
      "likelihood ratio test: chi2=70.1416 , p=0.0000  , df=20\n",
      "parameter F test:         F=3.4080  , p=0.0000  , df_denom=252, df_num=20\n"
     ]
    }
   ],
   "source": [
    "causality_test_results = grangercausalitytests(test_dataframe_differenced, maxlag = 20)"
   ]
  },
  {
   "cell_type": "markdown",
   "id": "d2cea7a6",
   "metadata": {},
   "source": [
    "# Conclusion\n",
    "As can be seen, up to 20 lags from 3rd lag, (differenced) NASDAQ-COMP can be said to influence (differenced) BIST100. This means that an event that happens in NASDAQ-COMP stock market is expected to influence BIST100. That is, future values of BIST100 follow NASDAQ-COMP, albeit with a certain lag. The statistical implication is that future values of BIST100 index can be forecasted through models on NASDAQ-COMP. "
   ]
  },
  {
   "cell_type": "code",
   "execution_count": null,
   "id": "e9027341",
   "metadata": {},
   "outputs": [],
   "source": []
  }
 ],
 "metadata": {
  "kernelspec": {
   "display_name": "Python 3",
   "language": "python",
   "name": "python3"
  },
  "language_info": {
   "codemirror_mode": {
    "name": "ipython",
    "version": 3
   },
   "file_extension": ".py",
   "mimetype": "text/x-python",
   "name": "python",
   "nbconvert_exporter": "python",
   "pygments_lexer": "ipython3",
   "version": "3.8.8"
  }
 },
 "nbformat": 4,
 "nbformat_minor": 5
}
